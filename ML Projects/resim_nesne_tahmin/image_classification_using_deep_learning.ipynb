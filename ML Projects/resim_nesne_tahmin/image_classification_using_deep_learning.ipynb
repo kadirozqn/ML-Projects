{
 "cells": [
  {
   "cell_type": "markdown",
   "id": "4cd493bf",
   "metadata": {},
   "source": [
    "# Deep Learning Algoritmaları ile Fotoğraflardaki Nesneleri Tanıma ve Sınıflandırma Projesi\n",
    "\n",
    "<IMG src=\"deep7.png\" width=\"750\" height=\"180\">\n",
    "    \n",
    "    "
   ]
  },
  {
   "cell_type": "code",
   "execution_count": 1,
   "id": "bf4a0b66",
   "metadata": {},
   "outputs": [],
   "source": [
    "import tensorflow as tf\n",
    "from tensorflow.keras import datasets, layers, models\n",
    "import pandas as pd\n",
    "import numpy as np\n",
    "import matplotlib.pyplot as plt\n"
   ]
  },
  {
   "cell_type": "markdown",
   "id": "f246b014",
   "metadata": {},
   "source": [
    "#### Datasetimizi (cifar10 verisetini) yüklüyoruz: (Yükleme işlemi için Internet bağlantınızın olması gerekiyor). Eğer bağlantınız yoksa  veri setini Internetten indirip de yükleyebilirsiniz.."
   ]
  },
  {
   "cell_type": "code",
   "execution_count": 2,
   "id": "7c7e954a",
   "metadata": {},
   "outputs": [
    {
     "name": "stdout",
     "output_type": "stream",
     "text": [
      "Downloading data from https://www.cs.toronto.edu/~kriz/cifar-10-python.tar.gz\n",
      "170500096/170498071 [==============================] - 260s 2us/step\n"
     ]
    }
   ],
   "source": [
    "(X_train, y_train), (X_test,y_test) = datasets.cifar10.load_data()\n"
   ]
  },
  {
   "cell_type": "code",
   "execution_count": 3,
   "id": "46e28c2f",
   "metadata": {},
   "outputs": [
    {
     "data": {
      "text/plain": [
       "(50000, 32, 32, 3)"
      ]
     },
     "execution_count": 3,
     "metadata": {},
     "output_type": "execute_result"
    }
   ],
   "source": [
    "X_train.shape"
   ]
  },
  {
   "cell_type": "markdown",
   "id": "ec46f9bc",
   "metadata": {},
   "source": [
    "#### Her bir fotoğraf 32 pixele-32 pixel kare boyutunda ve renkli 3 kanal RGB bilgileri olduğu için arrayımız bu şekilde..\n",
    "\n",
    "<IMG src=\"cifar10_images.jpg\" width=\"400\" height=\"400\">\n"
   ]
  },
  {
   "cell_type": "code",
   "execution_count": 4,
   "id": "ce8f44c1",
   "metadata": {},
   "outputs": [
    {
     "data": {
      "text/plain": [
       "(10000, 32, 32, 3)"
      ]
     },
     "execution_count": 4,
     "metadata": {},
     "output_type": "execute_result"
    }
   ],
   "source": [
    "X_test.shape"
   ]
  },
  {
   "cell_type": "code",
   "execution_count": 5,
   "id": "422376c2",
   "metadata": {},
   "outputs": [
    {
     "data": {
      "text/plain": [
       "array([[6],\n",
       "       [9],\n",
       "       [9]], dtype=uint8)"
      ]
     },
     "execution_count": 5,
     "metadata": {},
     "output_type": "execute_result"
    }
   ],
   "source": [
    "y_train[:3]"
   ]
  },
  {
   "cell_type": "markdown",
   "id": "72e20cba",
   "metadata": {},
   "source": [
    "y_train ve y_test 2 boyutlu bir array olarak tutuluyor cifar10 verisetinde. \n",
    "Biz bu verileri görsel olarak daha rahat anlamak için tek boyutlu hale getiriyoruz.\n",
    "2 boyutlu bir arrayi (sadece tekbir boyutunda veri var diğer boyutu boş olan tabi) tekboyutlu hale geitrmek için reshape() kullanıyoruz.."
   ]
  },
  {
   "cell_type": "code",
   "execution_count": 6,
   "id": "a26829fa",
   "metadata": {},
   "outputs": [],
   "source": [
    "y_test = y_test.reshape(-1,)"
   ]
  },
  {
   "cell_type": "code",
   "execution_count": 7,
   "id": "922962d4",
   "metadata": {},
   "outputs": [
    {
     "data": {
      "text/plain": [
       "array([3, 8, 8, ..., 5, 1, 7], dtype=uint8)"
      ]
     },
     "execution_count": 7,
     "metadata": {},
     "output_type": "execute_result"
    }
   ],
   "source": [
    "y_test "
   ]
  },
  {
   "cell_type": "markdown",
   "id": "59b4660e",
   "metadata": {},
   "source": [
    "#### Verilere bir göz atalım. bu amaçla kendimiz bir array oluşturuyoruz: "
   ]
  },
  {
   "cell_type": "code",
   "execution_count": 8,
   "id": "3b5c6bb2",
   "metadata": {},
   "outputs": [],
   "source": [
    "resim_siniflari = [\"airplane\",\"automobile\",\"bird\",\"cat\",\"deer\",\"dog\",\"frog\",\"horse\",\"ship\",\"truck\"]"
   ]
  },
  {
   "cell_type": "code",
   "execution_count": 9,
   "id": "1a8a38fc",
   "metadata": {},
   "outputs": [],
   "source": [
    "def plot_sample(X, y, index):\n",
    "    plt.figure(figsize = (15,2))\n",
    "    plt.imshow(X[index])        \n",
    "    plt.xlabel(resim_siniflari[y[index]])\n",
    "    plt.show()\n"
   ]
  },
  {
   "cell_type": "code",
   "execution_count": 10,
   "id": "a065b909",
   "metadata": {},
   "outputs": [
    {
     "data": {
      "image/png": "[encoded data removed]",
      "text/plain": [
       "<Figure size 1500x200 with 1 Axes>"
      ]
     },
     "metadata": {},
     "output_type": "display_data"
    }
   ],
   "source": [
    "plot_sample(X_test, y_test, 0)"
   ]
  },
  {
   "cell_type": "code",
   "execution_count": 11,
   "id": "8dee36fa",
   "metadata": {},
   "outputs": [
    {
     "data": {
      "image/png": "[encoded data removed]",
      "text/plain": [
       "<Figure size 1500x200 with 1 Axes>"
      ]
     },
     "metadata": {},
     "output_type": "display_data"
    }
   ],
   "source": [
    "plot_sample(X_test, y_test, 1)"
   ]
  },
  {
   "cell_type": "code",
   "execution_count": 12,
   "id": "5242f30a",
   "metadata": {},
   "outputs": [
    {
     "data": {
      "image/png": "[encoded data removed]",
      "text/plain": [
       "<Figure size 1500x200 with 1 Axes>"
      ]
     },
     "metadata": {},
     "output_type": "display_data"
    }
   ],
   "source": [
    "plot_sample(X_test, y_test, 3)"
   ]
  },
  {
   "cell_type": "markdown",
   "id": "f76d165b",
   "metadata": {},
   "source": [
    "### Normalization\n",
    "\n",
    "Verilerimizi normalize etmemiz gerekiyor. Aksi takdirde CNN algoritmaları yanlış sonuç verebiliyor. Fotoğraflar RGB olarak 3 kanal ve her bir pixel 0-255 arasında değer aldığı için normalization için basitçe her bir pixel değerini 255'e bölmemiz yeterli.."
   ]
  },
  {
   "cell_type": "code",
   "execution_count": 13,
   "id": "f03a46da",
   "metadata": {},
   "outputs": [],
   "source": [
    "X_train = X_train / 255\n",
    "X_test = X_test / 255"
   ]
  },
  {
   "cell_type": "markdown",
   "id": "9c65da4c",
   "metadata": {},
   "source": [
    "### Deep Learning Algoritmamızı CNN - Convolutional Neural Network Kullanarak Tasarlıyoruz:"
   ]
  },
  {
   "cell_type": "code",
   "execution_count": 14,
   "id": "7ad227c3",
   "metadata": {},
   "outputs": [],
   "source": [
    "deep_learning_model = models.Sequential([\n",
    "    # İlk bölüm Convolution layer.. Bu kısımda fotoğraflardan tanımlama yapabilmek için özellikleri çıkarıyoruz...\n",
    "    layers.Conv2D(filters=32, kernel_size=(3, 3), activation='relu', input_shape=(32, 32, 3)),\n",
    "    layers.MaxPooling2D((2, 2)),\n",
    "    \n",
    "    layers.Conv2D(filters=64, kernel_size=(3, 3), activation='relu'),\n",
    "    layers.MaxPooling2D((2, 2)),\n",
    "    \n",
    "    # İkinci bölüm klasik Articial Neural Network olan layerımız.. Yukarıdaki özelliklerimiz ve training bilgilerine\n",
    "    # göre ANN modelimizi eğiteceğiz..\n",
    "    layers.Flatten(),\n",
    "    layers.Dense(64, activation='relu'),\n",
    "    layers.Dense(10, activation='softmax')\n",
    "])"
   ]
  },
  {
   "cell_type": "code",
   "execution_count": 15,
   "id": "ea797643",
   "metadata": {},
   "outputs": [],
   "source": [
    "deep_learning_model.compile(optimizer='adam',\n",
    "              loss='sparse_categorical_crossentropy',\n",
    "              metrics=['accuracy'])"
   ]
  },
  {
   "cell_type": "markdown",
   "id": "07e7456e",
   "metadata": {},
   "source": [
    "### Modelimizi eğitmeye başlayalım artık..."
   ]
  },
  {
   "cell_type": "code",
   "execution_count": 27,
   "id": "758a9635",
   "metadata": {},
   "outputs": [
    {
     "name": "stdout",
     "output_type": "stream",
     "text": [
      "Epoch 1/20\n",
      "1563/1563 [==============================] - 32s 21ms/step - loss: 0.7470 - accuracy: 0.7400\n",
      "Epoch 2/20\n",
      "1563/1563 [==============================] - 44s 28ms/step - loss: 0.6986 - accuracy: 0.7552\n",
      "Epoch 3/20\n",
      "1563/1563 [==============================] - 52s 33ms/step - loss: 0.6485 - accuracy: 0.7752\n",
      "Epoch 4/20\n",
      "1563/1563 [==============================] - 50s 32ms/step - loss: 0.6118 - accuracy: 0.7874\n",
      "Epoch 5/20\n",
      "1563/1563 [==============================] - 50s 32ms/step - loss: 0.5710 - accuracy: 0.7993\n",
      "Epoch 6/20\n",
      "1563/1563 [==============================] - 52s 34ms/step - loss: 0.5381 - accuracy: 0.8115\n",
      "Epoch 7/20\n",
      "1563/1563 [==============================] - 50s 32ms/step - loss: 0.5037 - accuracy: 0.8224\n",
      "Epoch 8/20\n",
      "1563/1563 [==============================] - 63s 40ms/step - loss: 0.4704 - accuracy: 0.8334\n",
      "Epoch 9/20\n",
      "1563/1563 [==============================] - 50s 32ms/step - loss: 0.4421 - accuracy: 0.8429\n",
      "Epoch 10/20\n",
      "1563/1563 [==============================] - 50s 32ms/step - loss: 0.4076 - accuracy: 0.8575\n",
      "Epoch 11/20\n",
      "1563/1563 [==============================] - 50s 32ms/step - loss: 0.3879 - accuracy: 0.8619\n",
      "Epoch 12/20\n",
      "1563/1563 [==============================] - 52s 33ms/step - loss: 0.3627 - accuracy: 0.8704\n",
      "Epoch 13/20\n",
      "1563/1563 [==============================] - 51s 33ms/step - loss: 0.3353 - accuracy: 0.8811\n",
      "Epoch 14/20\n",
      "1563/1563 [==============================] - 965s 618ms/step - loss: 0.3151 - accuracy: 0.8871\n",
      "Epoch 15/20\n",
      "1563/1563 [==============================] - 78s 50ms/step - loss: 0.2946 - accuracy: 0.8948\n",
      "Epoch 16/20\n",
      "1563/1563 [==============================] - 53s 34ms/step - loss: 0.2779 - accuracy: 0.9004\n",
      "Epoch 17/20\n",
      "1563/1563 [==============================] - 53s 34ms/step - loss: 0.2585 - accuracy: 0.9059\n",
      "Epoch 18/20\n",
      "1563/1563 [==============================] - 51s 33ms/step - loss: 0.2428 - accuracy: 0.9122\n",
      "Epoch 19/20\n",
      "1563/1563 [==============================] - 58s 37ms/step - loss: 0.2277 - accuracy: 0.9186\n",
      "Epoch 20/20\n",
      "1563/1563 [==============================] - 52s 33ms/step - loss: 0.2164 - accuracy: 0.9219\n"
     ]
    },
    {
     "data": {
      "text/plain": [
       "<tensorflow.python.keras.callbacks.History at 0x1ca2a1d7250>"
      ]
     },
     "execution_count": 27,
     "metadata": {},
     "output_type": "execute_result"
    }
   ],
   "source": [
    "deep_learning_model.fit(X_train, y_train, epochs=20)"
   ]
  },
  {
   "cell_type": "code",
   "execution_count": 17,
   "id": "16b3d698",
   "metadata": {},
   "outputs": [
    {
     "name": "stdout",
     "output_type": "stream",
     "text": [
      "313/313 [==============================] - 4s 13ms/step - loss: 0.9186 - accuracy: 0.6848\n"
     ]
    },
    {
     "data": {
      "text/plain": [
       "[0.9186462759971619, 0.6848000288009644]"
      ]
     },
     "execution_count": 17,
     "metadata": {},
     "output_type": "execute_result"
    }
   ],
   "source": [
    "deep_learning_model.evaluate(X_test,y_test)"
   ]
  },
  {
   "cell_type": "code",
   "execution_count": 18,
   "id": "daa7b9e1",
   "metadata": {},
   "outputs": [
    {
     "data": {
      "text/plain": [
       "array([[8.43122078e-04, 5.06245589e-04, 2.35472317e-03, 6.87438667e-01,\n",
       "        4.85885917e-04, 1.52946532e-01, 1.50773197e-01, 3.09612573e-04,\n",
       "        3.75602487e-03, 5.85964532e-04],\n",
       "       [1.91642214e-02, 6.87705815e-01, 1.05740095e-04, 7.86432065e-06,\n",
       "        5.89096817e-06, 2.92928598e-06, 2.96178797e-07, 9.70871315e-06,\n",
       "        2.75624990e-01, 1.73725765e-02],\n",
       "       [6.17310554e-02, 1.86853677e-01, 2.95937969e-03, 5.55376103e-03,\n",
       "        7.84747861e-03, 2.10557785e-03, 5.78193809e-04, 7.52044981e-03,\n",
       "        6.95454657e-01, 2.93957479e-02]], dtype=float32)"
      ]
     },
     "execution_count": 18,
     "metadata": {},
     "output_type": "execute_result"
    }
   ],
   "source": [
    "y_pred = deep_learning_model.predict(X_test)\n",
    "y_pred[:3]"
   ]
  },
  {
   "cell_type": "code",
   "execution_count": 19,
   "id": "2e3fa72f",
   "metadata": {},
   "outputs": [
    {
     "data": {
      "text/plain": [
       "[3, 1, 8]"
      ]
     },
     "execution_count": 19,
     "metadata": {},
     "output_type": "execute_result"
    }
   ],
   "source": [
    "y_predictions_siniflari = [np.argmax(element) for element in y_pred]\n",
    "y_predictions_siniflari[:3]"
   ]
  },
  {
   "cell_type": "code",
   "execution_count": 20,
   "id": "86a95599",
   "metadata": {},
   "outputs": [
    {
     "data": {
      "text/plain": [
       "array([3, 8, 8], dtype=uint8)"
      ]
     },
     "execution_count": 20,
     "metadata": {},
     "output_type": "execute_result"
    }
   ],
   "source": [
    "y_test[:3]"
   ]
  },
  {
   "cell_type": "code",
   "execution_count": 21,
   "id": "e6da0a7b",
   "metadata": {},
   "outputs": [
    {
     "data": {
      "image/png": "[encoded data removed]",
      "text/plain": [
       "<Figure size 1500x200 with 1 Axes>"
      ]
     },
     "metadata": {},
     "output_type": "display_data"
    }
   ],
   "source": [
    "plot_sample(X_test, y_test,0)"
   ]
  },
  {
   "cell_type": "code",
   "execution_count": 22,
   "id": "ce1c9d65",
   "metadata": {},
   "outputs": [
    {
     "data": {
      "text/plain": [
       "'cat'"
      ]
     },
     "execution_count": 22,
     "metadata": {},
     "output_type": "execute_result"
    }
   ],
   "source": [
    "resim_siniflari[y_predictions_siniflari[0]]"
   ]
  },
  {
   "cell_type": "code",
   "execution_count": 23,
   "id": "671acd2a",
   "metadata": {},
   "outputs": [
    {
     "data": {
      "image/png": "[encoded data removed]",
      "text/plain": [
       "<Figure size 1500x200 with 1 Axes>"
      ]
     },
     "metadata": {},
     "output_type": "display_data"
    }
   ],
   "source": [
    "plot_sample(X_test, y_test,1)"
   ]
  },
  {
   "cell_type": "code",
   "execution_count": 24,
   "id": "ccb8fffa",
   "metadata": {},
   "outputs": [
    {
     "data": {
      "text/plain": [
       "'automobile'"
      ]
     },
     "execution_count": 24,
     "metadata": {},
     "output_type": "execute_result"
    }
   ],
   "source": [
    "resim_siniflari[y_predictions_siniflari[1]]"
   ]
  },
  {
   "cell_type": "code",
   "execution_count": 25,
   "id": "65effc16",
   "metadata": {},
   "outputs": [
    {
     "data": {
      "image/png": "[encoded data removed]",
      "text/plain": [
       "<Figure size 1500x200 with 1 Axes>"
      ]
     },
     "metadata": {},
     "output_type": "display_data"
    }
   ],
   "source": [
    "plot_sample(X_test, y_test,2)"
   ]
  },
  {
   "cell_type": "code",
   "execution_count": 26,
   "id": "1368787b",
   "metadata": {},
   "outputs": [
    {
     "data": {
      "text/plain": [
       "'ship'"
      ]
     },
     "execution_count": 26,
     "metadata": {},
     "output_type": "execute_result"
    }
   ],
   "source": [
    "resim_siniflari[y_predictions_siniflari[2]]"
   ]
  }
 ],
 "metadata": {
  "kernelspec": {
   "display_name": "tensorflow2",
   "language": "python",
   "name": "python3"
  },
  "language_info": {
   "codemirror_mode": {
    "name": "ipython",
    "version": 3
   },
   "file_extension": ".py",
   "mimetype": "text/x-python",
   "name": "python",
   "nbconvert_exporter": "python",
   "pygments_lexer": "ipython3",
   "version": "3.8.20"
  }
 },
 "nbformat": 4,
 "nbformat_minor": 5
}
